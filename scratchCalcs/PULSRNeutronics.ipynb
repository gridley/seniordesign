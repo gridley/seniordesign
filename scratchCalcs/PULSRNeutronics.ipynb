{
 "cells": [
  {
   "cell_type": "markdown",
   "metadata": {},
   "source": [
    "# A preliminary investigation of PULSR neutronics"
   ]
  },
  {
   "cell_type": "markdown",
   "metadata": {},
   "source": [
    "The goal here is to pull some nuclear data, and assign a figure of merit to compare two different nuclear fuels for\n",
    "our reactor. The NASA Kilopower folks have chosen UMo (9%w.t. molybdenum uranium). We propose Pu-Fe eutectic (9.2%w.t. iron) as a nuclear fuel for the fast spectrum. A figure of merit that penalizes absorbtion and merits high fission cross section was devised: $(\\nu \\Sigma_f)^2 / \\Sigma_a$.\n",
    "\n",
    "The plutonium is assumed to be weapons grade, while the uranium gets assumed to be 93% enriched, having its minor isotopes like 234 calculated automatically by openmc. Notably, openmc gives a warning on the U234 content approximation not working on HEU, so this could skew the result."
   ]
  },
  {
   "cell_type": "code",
   "execution_count": 2,
   "metadata": {
    "collapsed": true
   },
   "outputs": [],
   "source": [
    "%matplotlib inline\n",
    "import os\n",
    "from pprint import pprint\n",
    "import shutil\n",
    "import subprocess\n",
    "import urllib.request\n",
    "\n",
    "import h5py\n",
    "import numpy as np\n",
    "import matplotlib.pyplot as plt\n",
    "import matplotlib.cm\n",
    "from matplotlib.patches import Rectangle\n",
    "\n",
    "import openmc.data\n",
    "import openmc"
   ]
  },
  {
   "cell_type": "code",
   "execution_count": 3,
   "metadata": {
    "collapsed": true
   },
   "outputs": [],
   "source": [
    "os.environ['OPENMC_CROSS_SECTIONS']='/home/gavin/code/openmc/scripts/cross_sections.xml'"
   ]
  },
  {
   "cell_type": "code",
   "execution_count": 4,
   "metadata": {
    "collapsed": true
   },
   "outputs": [],
   "source": [
    "# let's load some of the relevant isotopes for the problem:\n",
    "datadir = '/home/gavin/code/openmc/scripts/'\n",
    "pu = [openmc.data.IncidentNeutron.from_hdf5(datadir+'Pu{}.h5'.format(i)) for i in range(239,243)]\n",
    "tungIso = [182, 183, 184, 186]\n",
    "w = [openmc.data.IncidentNeutron.from_hdf5(datadir+'W{}.h5'.format(i)) for i in tungIso] # 180 missing\n",
    "ta = openmc.data.IncidentNeutron.from_hdf5(datadir+'Ta181.h5') # neglect ta-180\n",
    "be = openmc.data.IncidentNeutron.from_hdf5(datadir+'Be9.h5')\n",
    "iroIso = [54, 56, 57, 58]\n",
    "iron = [openmc.data.IncidentNeutron.from_hdf5(datadir+'Fe{}.h5'.format(i)) for i in iroIso]\n",
    "h = openmc.data.IncidentNeutron.from_hdf5(datadir+'H1.h5')"
   ]
  },
  {
   "cell_type": "code",
   "execution_count": 5,
   "metadata": {
    "collapsed": true
   },
   "outputs": [],
   "source": [
    "# unpack some\n",
    "pu239, pu240, pu241, pu242 = tuple(pu)\n",
    "w182, w183, w184, w186 = tuple(w)\n",
    "fe54, fe56, fe57, fe58 = tuple(iron)"
   ]
  },
  {
   "cell_type": "code",
   "execution_count": 6,
   "metadata": {
    "collapsed": true
   },
   "outputs": [],
   "source": [
    "# gallium may matter:\n",
    "ga69 = openmc.data.IncidentNeutron.from_hdf5(datadir+'Ga69.h5')\n",
    "ga71 = openmc.data.IncidentNeutron.from_hdf5(datadir+'Ga71.h5')"
   ]
  },
  {
   "cell_type": "code",
   "execution_count": 7,
   "metadata": {
    "collapsed": true
   },
   "outputs": [],
   "source": [
    "# molybdenum and uranium:\n",
    "moIso = [92, 94, 95, 96, 97, 98,100]\n",
    "moly = [openmc.data.IncidentNeutron.from_hdf5(datadir+'Mo{}.h5'.format(i)) for i in moIso]\n",
    "u235 = openmc.data.IncidentNeutron.from_hdf5(datadir+'U235.h5')\n",
    "u238 = openmc.data.IncidentNeutron.from_hdf5(datadir+'U238.h5')"
   ]
  },
  {
   "cell_type": "markdown",
   "metadata": {},
   "source": [
    "For comparison, let's investigate the ratio of macroscopic neutron production cross section to macroscopic absorbtion cross section for iron-plutonium eutectic and also U-Moly. A good FoM for small critical mass would be\n",
    "$(\\nu \\Sigma_f)^2 / \\Sigma_a$ because it preferentially favors high fission cross section combined with penalizing high absorbtion."
   ]
  },
  {
   "cell_type": "code",
   "execution_count": 21,
   "metadata": {
    "collapsed": true
   },
   "outputs": [],
   "source": [
    "# interpolate Pu-fuel cross sections onto the Pu-239 energy grid:\n",
    "energyPu = pu239.energy['600K']\n",
    "pufe = openmc.Material()\n",
    "umoly = openmc.Material()"
   ]
  },
  {
   "cell_type": "code",
   "execution_count": 22,
   "metadata": {
    "collapsed": true
   },
   "outputs": [],
   "source": [
    "umoly.set_density('g/cm3', 17.0) # from IAEA Oliveira, see Zotero\n",
    "# calculate PuFe density if 1% of the trivalent part (Pu) is gallium.\n",
    "# pu density:\n",
    "# calc density of trivalent part of mix, then add in iron density:\n",
    "pufe.set_density('g/cm3',100./((99./((1.-.092)*16.)) + 1./5.91)+.092*16.)"
   ]
  },
  {
   "cell_type": "code",
   "execution_count": 11,
   "metadata": {},
   "outputs": [],
   "source": [
    "purewgpu = openmc.Material()\n",
    "purewgpu.add_nuclide('Pu238',.00012,percent_type='wo')\n",
    "purewgpu.add_nuclide('Pu239',.938,percent_type='wo')\n",
    "purewgpu.add_nuclide('Pu240',.058,percent_type='wo')\n",
    "purewgpu.add_nuclide('Pu241',.0035,percent_type='wo')\n",
    "purewgpu.add_nuclide('Pu242',.00022,percent_type='wo')\n",
    "purewgpu.set_density('g/cm3',1.)"
   ]
  },
  {
   "cell_type": "code",
   "execution_count": 19,
   "metadata": {},
   "outputs": [
    {
     "name": "stdout",
     "output_type": "stream",
     "text": [
      "Nuclide    -    Pu238\n",
      " 0.000120557652199\n",
      "Nuclide    -    Pu239\n",
      " 0.93840665405\n",
      "Nuclide    -    Pu240\n",
      " 0.0577830288097\n",
      "Nuclide    -    Pu241\n",
      " 0.00347239788619\n",
      "Nuclide    -    Pu242\n",
      " 0.000217361602085\n"
     ]
    }
   ],
   "source": [
    "# get atom fractions of each isotope in WG Pu\n",
    "dictx = purewgpu.get_nuclide_atom_densities()\n",
    "adenssum = 0.0\n",
    "for _, (nuc,ndens) in dictx.items():\n",
    "    adenssum += ndens\n",
    "puAdensDict = []\n",
    "for _, (nuc,ndens) in dictx.items():\n",
    "    print(nuc,ndens/adenssum)\n",
    "    puAdensDict.append(ndens/adenssum)"
   ]
  },
  {
   "cell_type": "code",
   "execution_count": 23,
   "metadata": {},
   "outputs": [],
   "source": [
    "pufe.add_element('Fe',9.2,percent_type='ao')\n",
    "pufe.add_element('Ga',(100.-9.2)*.01,percent_type='wo') # 1 w.t.% gallium in Pu\n",
    "pufrac = (100.-9.2)\n",
    "# WG Pu: (maybe)\n",
    "pufe.add_nuclide('Pu238',pufrac*puAdensDict[0],percent_type='ao')\n",
    "pufe.add_nuclide('Pu239',pufrac*puAdensDict[1],percent_type='ao')\n",
    "pufe.add_nuclide('Pu240',pufrac*puAdensDict[2],percent_type='ao')\n",
    "pufe.add_nuclide('Pu241',pufrac*puAdensDict[3],percent_type='ao')\n",
    "pufe.add_nuclide('Pu242',pufrac*puAdensDict[4],percent_type='ao')"
   ]
  },
  {
   "cell_type": "code",
   "execution_count": null,
   "metadata": {
    "collapsed": true
   },
   "outputs": [],
   "source": [
    "pufe."
   ]
  },
  {
   "cell_type": "code",
   "execution_count": 71,
   "metadata": {},
   "outputs": [
    {
     "name": "stderr",
     "output_type": "stream",
     "text": [
      "/usr/local/lib/python3.5/dist-packages/openmc-0.9.0-py3.5-linux-x86_64.egg/openmc/material.py:598: UserWarning: A uranium enrichment of 93.0 was given for Material ID=\"4\". OpenMC assumes the U234/U235 mass ratio is constant at 0.008, which is only valid at low enrichments. Consider setting the isotopic composition manually for enrichments over 5%.\n",
      "  warnings.warn(msg)\n"
     ]
    }
   ],
   "source": [
    "umoly.add_element('U',91.,percent_type='wo',enrichment=93.)\n",
    "umoly.add_element('Mo',9.,percent_type='wo')"
   ]
  },
  {
   "cell_type": "code",
   "execution_count": 72,
   "metadata": {
    "collapsed": true
   },
   "outputs": [],
   "source": [
    "umolyAdensDict = umoly.get_nuclide_atom_densities()\n",
    "umolyNuclides = umoly.get_nuclides()\n",
    "pufeAdensDict = pufe.get_nuclide_atom_densities()\n",
    "pufeNuclides = pufe.get_nuclides()"
   ]
  },
  {
   "cell_type": "code",
   "execution_count": 73,
   "metadata": {
    "collapsed": true
   },
   "outputs": [],
   "source": [
    "uEnergy = u235.energy['600K'] # u 235 energy grid"
   ]
  },
  {
   "cell_type": "code",
   "execution_count": 182,
   "metadata": {
    "collapsed": true
   },
   "outputs": [],
   "source": [
    "def getSigmaA(nuclib, adendict):\n",
    "    \"\"\" gets macroscopic absorbtion cross section\"\"\"\n",
    "    sigA = np.zeros(len(energyPu))\n",
    "    \n",
    "    for nucname, nuclib in nuclib:\n",
    "        sigA += nuclib[102].xs['600K'](energyPu) * adendict[openmc.Nuclide(nucname)][1]\n",
    "        \n",
    "    return sigA\n",
    "\n",
    "def getSigmaAFromMaterial(material, datadir):\n",
    "    \"\"\" getSigmaA, but vastly improved. just pass in a material.\"\"\"\n",
    "    nuclist = material.get_nuclides()\n",
    "    adens = material.get_nuclide_atom_densities()\n",
    "    sigA = np.zeros(len(energyPu))\n",
    "    \n",
    "    for nuc in nuclist:\n",
    "        datlib = openmc.data.IncidentNeutron.from_hdf5(datadir+'{}.h5'.format(nuc))\n",
    "        sigA += datlib[102].xs['600K'](energyPu) * adens[openmc.Nuclide(nuc)][1]\n",
    "        \n",
    "    return sigA\n",
    "    \n",
    "\n",
    "def getNSF(fissList, adensDict):\n",
    "    \"\"\"gets \\nu \\Sigma_f for a material given atom densities and nuclides\"\"\"\n",
    "    nsf = np.zeros(len(energyPu))\n",
    "\n",
    "    for nucname, nuclib in fissile:\n",
    "        prodlist = nuclib[18].products\n",
    "\n",
    "        # get neutrons per fission\n",
    "        nu = np.zeros(len(energyPu))\n",
    "        for product in prodlist:\n",
    "            if product.emission_mode=='prompt' and product.particle=='neutron':\n",
    "                # then this is a prompt fission\n",
    "                nu += product.yield_(energyPu)\n",
    "            elif product.emission_mode=='delayed' and product.particle=='neutron':\n",
    "                # add on delayed neutrons\n",
    "                nu += product.yield_(energyPu)\n",
    "\n",
    "        # get \\Sigma_f\n",
    "        sigf = nuclib[18].xs['600K'](energyPu) * adensDict[openmc.Nuclide(nucname)][1]\n",
    "        nsf += sigf * nu\n",
    "        \n",
    "    return nsf\n"
   ]
  },
  {
   "cell_type": "code",
   "execution_count": 178,
   "metadata": {
    "collapsed": true
   },
   "outputs": [],
   "source": [
    "# calculate the macroscopic cross sections of interest:\n",
    "fissile = [('Pu239',pu239),('Pu240',pu240),('Pu241',pu241),('Pu242',pu242)] # list of name, ACE data lib\n",
    "pufeNSF = getNSF(fissile, pufeAdensDict)\n",
    "libdict=[\n",
    " ('Pu239',pu239),\n",
    " ('Pu240',pu240),\n",
    " ('Pu241',pu241),\n",
    " ('Pu242',pu242),\n",
    " ('Fe54',fe54),\n",
    " ('Fe56',fe56),\n",
    " ('Fe57',fe57),\n",
    " ('Fe58',fe58),\n",
    " ('Ga69',ga69),\n",
    " ('Ga71',ga71)]\n",
    "pufeSigA = getSigmaA(libdict, pufeAdensDict)"
   ]
  },
  {
   "cell_type": "code",
   "execution_count": 184,
   "metadata": {
    "collapsed": true
   },
   "outputs": [],
   "source": [
    "# now do the same for u-moly\n",
    "fissile = [('U235',u235),('U238',u238)]\n",
    "umolyNSF = getNSF(fissile,umolyAdensDict)\n",
    "umolySigA = getSigmaAFromMaterial(umoly, datadir)"
   ]
  },
  {
   "cell_type": "code",
   "execution_count": 192,
   "metadata": {},
   "outputs": [
    {
     "data": {
      "text/plain": [
       "<matplotlib.legend.Legend at 0x7f095a1b8c88>"
      ]
     },
     "execution_count": 192,
     "metadata": {},
     "output_type": "execute_result"
    },
    {
     "data": {
      "image/png": "[encoded data removed]",
      "text/plain": [
       "<matplotlib.figure.Figure at 0x7f0954eabd30>"
      ]
     },
     "metadata": {},
     "output_type": "display_data"
    }
   ],
   "source": [
    "from matplotlib import rc\n",
    "rc('text', usetex=True)\n",
    "fig = pl.figure(figsize=(8,5), dpi=96)\n",
    "ax = fig.add_subplot(111)\n",
    "pl.style.use('ggplot')\n",
    "ax.set_title(r'Comparison of $(\\nu \\Sigma_f)^2/\\Sigma_{(n,\\gamma)}$ for U-Mo9 solid fuel and Pu-Fe eutectic @ 600K')\n",
    "ax.set_xlabel('Energy (eV)')\n",
    "ax.set_ylabel(r'$(\\nu \\Sigma_f)^2/\\Sigma_{(n,\\gamma)}$ (cm$^{-1}$)')\n",
    "ax.loglog(energyPu, pufeNSF**2/pufeSigA, energyPu, umolySigA**2/umolySigA)\n",
    "ax.legend(['Fe9.2-Pu','Mo9-U'])"
   ]
  },
  {
   "cell_type": "code",
   "execution_count": null,
   "metadata": {
    "collapsed": true
   },
   "outputs": [],
   "source": []
  }
 ],
 "metadata": {
  "kernelspec": {
   "display_name": "Python 3",
   "language": "python",
   "name": "python3"
  },
  "language_info": {
   "codemirror_mode": {
    "name": "ipython",
    "version": 3
   },
   "file_extension": ".py",
   "mimetype": "text/x-python",
   "name": "python",
   "nbconvert_exporter": "python",
   "pygments_lexer": "ipython3",
   "version": "3.5.2+"
  }
 },
 "nbformat": 4,
 "nbformat_minor": 2
}
